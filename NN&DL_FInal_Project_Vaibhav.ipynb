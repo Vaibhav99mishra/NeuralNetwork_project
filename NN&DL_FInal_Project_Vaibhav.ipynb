{
 "cells": [
  {
   "cell_type": "code",
   "execution_count": 1,
   "metadata": {
    "id": "hlEmefe5RlRi"
   },
   "outputs": [],
   "source": [
    "import os\n",
    "import torchaudio\n",
    "import torchaudio.transforms as T\n",
    "import numpy as np\n",
    "import matplotlib.pyplot as plt\n",
    "import torchvision.transforms as transforms\n",
    "from PIL import Image\n",
    "from collections import defaultdict\n",
    "from sklearn.model_selection import train_test_split\n",
    "from torchvision import datasets, transforms\n",
    "import torch\n",
    "import torch.nn as nn\n",
    "import torch.optim as optim"
   ]
  },
  {
   "cell_type": "code",
   "execution_count": 2,
   "metadata": {
    "id": "Me7RLPt3ry9F"
   },
   "outputs": [],
   "source": [
    "def audio_to_image(audio_folder, image_folder):\n",
    "    # List the subfolders in the audio directory\n",
    "    stress_conditions = os.listdir(audio_folder)\n",
    "\n",
    "    # Create image folders if they don't exist already\n",
    "    for condition in stress_conditions:\n",
    "        os.makedirs(os.path.join(image_folder, condition), exist_ok=True)\n",
    "\n",
    "    # Process audio files in each stress condition folder\n",
    "    for condition in stress_conditions:\n",
    "        audio_path = os.path.join(audio_folder, condition)\n",
    "        image_path = os.path.join(image_folder, condition)\n",
    "\n",
    "        # Process each audio file in the current stress condition folder\n",
    "        for audio_file in os.listdir(audio_path):\n",
    "            # Load audio file\n",
    "            waveform, sample_rate = torchaudio.load(os.path.join(audio_path, audio_file))\n",
    "            # Convert audio to spectrogram\n",
    "            spec_transform = T.Spectrogram()\n",
    "            spectrogram = spec_transform(waveform)\n",
    "\n",
    "            # Reverse the axis - Time(x-axis) & Frequency (y-axis)\n",
    "            spectrogram = spectrogram.transpose(1, 2)\n",
    "\n",
    "            # Convert to decibels\n",
    "            #spectrogram_db = T.AmplitudeToDB()(spectrogram)\n",
    "\n",
    "            # Convert spectrogram to a numpy array\n",
    "            spectrogram = spectrogram[0].numpy()\n",
    "\n",
    "            # Save the spectrogram image in the respective folder\n",
    "            image_file = os.path.splitext(audio_file)[0] + '.png'\n",
    "            image_save_path = os.path.join(image_path,f\"{condition}_{image_file}\")\n",
    "            plt.imsave(image_save_path, spectrogram, cmap='gray', origin='lower')"
   ]
  },
  {
   "cell_type": "code",
   "execution_count": 3,
   "metadata": {
    "id": "3jMrnfY6w2si"
   },
   "outputs": [],
   "source": [
    "# Provide paths to your audio and image folders\n",
    "audio_folder_path = 'AUDIOFILES'\n",
    "image_folder_path = 'IMAGEFILES'"
   ]
  },
  {
   "cell_type": "code",
   "execution_count": 4,
   "metadata": {
    "id": "tfhfq-MHw-me"
   },
   "outputs": [
    {
     "ename": "RuntimeError",
     "evalue": "Couldn't find appropriate backend to handle uri AUDIOFILES\\Empty Pot\\id_0_sound_1.wav and format None.",
     "output_type": "error",
     "traceback": [
      "\u001b[1;31m---------------------------------------------------------------------------\u001b[0m",
      "\u001b[1;31mRuntimeError\u001b[0m                              Traceback (most recent call last)",
      "\u001b[1;32m<ipython-input-4-c247b289eea5>\u001b[0m in \u001b[0;36m<module>\u001b[1;34m\u001b[0m\n\u001b[0;32m      1\u001b[0m \u001b[1;31m# Convert audio files to spectrogram images and save them in respective folders\u001b[0m\u001b[1;33m\u001b[0m\u001b[1;33m\u001b[0m\u001b[1;33m\u001b[0m\u001b[0m\n\u001b[1;32m----> 2\u001b[1;33m \u001b[0maudio_to_image\u001b[0m\u001b[1;33m(\u001b[0m\u001b[0maudio_folder_path\u001b[0m\u001b[1;33m,\u001b[0m \u001b[0mimage_folder_path\u001b[0m\u001b[1;33m)\u001b[0m\u001b[1;33m\u001b[0m\u001b[1;33m\u001b[0m\u001b[0m\n\u001b[0m",
      "\u001b[1;32m<ipython-input-2-7310bf5b0116>\u001b[0m in \u001b[0;36maudio_to_image\u001b[1;34m(audio_folder, image_folder)\u001b[0m\n\u001b[0;32m     15\u001b[0m         \u001b[1;32mfor\u001b[0m \u001b[0maudio_file\u001b[0m \u001b[1;32min\u001b[0m \u001b[0mos\u001b[0m\u001b[1;33m.\u001b[0m\u001b[0mlistdir\u001b[0m\u001b[1;33m(\u001b[0m\u001b[0maudio_path\u001b[0m\u001b[1;33m)\u001b[0m\u001b[1;33m:\u001b[0m\u001b[1;33m\u001b[0m\u001b[1;33m\u001b[0m\u001b[0m\n\u001b[0;32m     16\u001b[0m             \u001b[1;31m# Load audio file\u001b[0m\u001b[1;33m\u001b[0m\u001b[1;33m\u001b[0m\u001b[1;33m\u001b[0m\u001b[0m\n\u001b[1;32m---> 17\u001b[1;33m             \u001b[0mwaveform\u001b[0m\u001b[1;33m,\u001b[0m \u001b[0msample_rate\u001b[0m \u001b[1;33m=\u001b[0m \u001b[0mtorchaudio\u001b[0m\u001b[1;33m.\u001b[0m\u001b[0mload\u001b[0m\u001b[1;33m(\u001b[0m\u001b[0mos\u001b[0m\u001b[1;33m.\u001b[0m\u001b[0mpath\u001b[0m\u001b[1;33m.\u001b[0m\u001b[0mjoin\u001b[0m\u001b[1;33m(\u001b[0m\u001b[0maudio_path\u001b[0m\u001b[1;33m,\u001b[0m \u001b[0maudio_file\u001b[0m\u001b[1;33m)\u001b[0m\u001b[1;33m)\u001b[0m\u001b[1;33m\u001b[0m\u001b[1;33m\u001b[0m\u001b[0m\n\u001b[0m\u001b[0;32m     18\u001b[0m             \u001b[1;31m# Convert audio to spectrogram\u001b[0m\u001b[1;33m\u001b[0m\u001b[1;33m\u001b[0m\u001b[1;33m\u001b[0m\u001b[0m\n\u001b[0;32m     19\u001b[0m             \u001b[0mspec_transform\u001b[0m \u001b[1;33m=\u001b[0m \u001b[0mT\u001b[0m\u001b[1;33m.\u001b[0m\u001b[0mSpectrogram\u001b[0m\u001b[1;33m(\u001b[0m\u001b[1;33m)\u001b[0m\u001b[1;33m\u001b[0m\u001b[1;33m\u001b[0m\u001b[0m\n",
      "\u001b[1;32m~\\Anaconda3\\lib\\site-packages\\torchaudio\\_backend\\utils.py\u001b[0m in \u001b[0;36mload\u001b[1;34m(uri, frame_offset, num_frames, normalize, channels_first, format, buffer_size, backend)\u001b[0m\n\u001b[0;32m    201\u001b[0m                 \u001b[0;31m`\u001b[0m\u001b[1;33m[\u001b[0m\u001b[0mchannel\u001b[0m\u001b[1;33m,\u001b[0m \u001b[0mtime\u001b[0m\u001b[1;33m]\u001b[0m\u001b[0;31m`\u001b[0m \u001b[1;32melse\u001b[0m\u001b[0;31m \u001b[0m\u001b[0;31m`\u001b[0m\u001b[1;33m[\u001b[0m\u001b[0mtime\u001b[0m\u001b[1;33m,\u001b[0m \u001b[0mchannel\u001b[0m\u001b[1;33m]\u001b[0m\u001b[0;31m`\u001b[0m\u001b[1;33m.\u001b[0m\u001b[1;33m\u001b[0m\u001b[1;33m\u001b[0m\u001b[0m\n\u001b[0;32m    202\u001b[0m         \"\"\"\n\u001b[1;32m--> 203\u001b[1;33m         \u001b[0mbackend\u001b[0m \u001b[1;33m=\u001b[0m \u001b[0mdispatcher\u001b[0m\u001b[1;33m(\u001b[0m\u001b[0muri\u001b[0m\u001b[1;33m,\u001b[0m \u001b[0mformat\u001b[0m\u001b[1;33m,\u001b[0m \u001b[0mbackend\u001b[0m\u001b[1;33m)\u001b[0m\u001b[1;33m\u001b[0m\u001b[1;33m\u001b[0m\u001b[0m\n\u001b[0m\u001b[0;32m    204\u001b[0m         \u001b[1;32mreturn\u001b[0m \u001b[0mbackend\u001b[0m\u001b[1;33m.\u001b[0m\u001b[0mload\u001b[0m\u001b[1;33m(\u001b[0m\u001b[0muri\u001b[0m\u001b[1;33m,\u001b[0m \u001b[0mframe_offset\u001b[0m\u001b[1;33m,\u001b[0m \u001b[0mnum_frames\u001b[0m\u001b[1;33m,\u001b[0m \u001b[0mnormalize\u001b[0m\u001b[1;33m,\u001b[0m \u001b[0mchannels_first\u001b[0m\u001b[1;33m,\u001b[0m \u001b[0mformat\u001b[0m\u001b[1;33m,\u001b[0m \u001b[0mbuffer_size\u001b[0m\u001b[1;33m)\u001b[0m\u001b[1;33m\u001b[0m\u001b[1;33m\u001b[0m\u001b[0m\n\u001b[0;32m    205\u001b[0m \u001b[1;33m\u001b[0m\u001b[0m\n",
      "\u001b[1;32m~\\Anaconda3\\lib\\site-packages\\torchaudio\\_backend\\utils.py\u001b[0m in \u001b[0;36mdispatcher\u001b[1;34m(uri, format, backend_name)\u001b[0m\n\u001b[0;32m    113\u001b[0m             \u001b[1;32mif\u001b[0m \u001b[0mbackend\u001b[0m\u001b[1;33m.\u001b[0m\u001b[0mcan_decode\u001b[0m\u001b[1;33m(\u001b[0m\u001b[0muri\u001b[0m\u001b[1;33m,\u001b[0m \u001b[0mformat\u001b[0m\u001b[1;33m)\u001b[0m\u001b[1;33m:\u001b[0m\u001b[1;33m\u001b[0m\u001b[1;33m\u001b[0m\u001b[0m\n\u001b[0;32m    114\u001b[0m                 \u001b[1;32mreturn\u001b[0m \u001b[0mbackend\u001b[0m\u001b[1;33m\u001b[0m\u001b[1;33m\u001b[0m\u001b[0m\n\u001b[1;32m--> 115\u001b[1;33m         \u001b[1;32mraise\u001b[0m \u001b[0mRuntimeError\u001b[0m\u001b[1;33m(\u001b[0m\u001b[1;34mf\"Couldn't find appropriate backend to handle uri {uri} and format {format}.\"\u001b[0m\u001b[1;33m)\u001b[0m\u001b[1;33m\u001b[0m\u001b[1;33m\u001b[0m\u001b[0m\n\u001b[0m\u001b[0;32m    116\u001b[0m \u001b[1;33m\u001b[0m\u001b[0m\n\u001b[0;32m    117\u001b[0m     def load(\n",
      "\u001b[1;31mRuntimeError\u001b[0m: Couldn't find appropriate backend to handle uri AUDIOFILES\\Empty Pot\\id_0_sound_1.wav and format None."
     ]
    }
   ],
   "source": [
    "# Convert audio files to spectrogram images and save them in respective folders\n",
    "audio_to_image(audio_folder_path, image_folder_path)"
   ]
  },
  {
   "cell_type": "code",
   "execution_count": null,
   "metadata": {
    "colab": {
     "base_uri": "https://localhost:8080/",
     "height": 607
    },
    "id": "OFJneAnMs3ox",
    "outputId": "855ec1d8-4dd6-421d-fd4d-27ba76f98ea6"
   },
   "outputs": [],
   "source": [
    "plt.figure(figsize = (12,6))\n",
    "\n",
    "plt.subplot(2,2,1)\n",
    "path = 'IMAGEFILES/Tobacco Cut/Tobacco Cut_id_127_sound_10.png'\n",
    "tobacco_cut = plt.imread(path)\n",
    "plt.imshow(tobacco_cut, aspect = 'auto')\n",
    "plt.title('Tobacco Cut')\n",
    "\n",
    "plt.subplot(2,2,2)\n",
    "path = 'IMAGEFILES/Tobacco Dry/Tobacco Dry_id_10_sound_1.png'\n",
    "tobacco_dry = plt.imread(path)\n",
    "plt.imshow(tobacco_dry, aspect = 'auto')\n",
    "plt.title('Tobacco Dry')\n",
    "\n",
    "plt.subplot(2,2,3)\n",
    "path = 'IMAGEFILES/Tomato Cut/Tomato Cut_id_127_sound_10.png'\n",
    "tomato_cut = plt.imread(path)\n",
    "plt.imshow(tomato_cut, aspect = 'auto')\n",
    "plt.title('Tomato Cut')\n",
    "\n",
    "plt.subplot(2,2,4)\n",
    "path = 'IMAGEFILES/Tomato Dry/Tomato Dry_id_101_sound_1.png'\n",
    "tomato_dry = plt.imread(path)\n",
    "plt.imshow(tomato_dry, aspect = 'auto')\n",
    "plt.title('Tomato Dry')\n",
    "\n",
    "plt.tight_layout()  # Adjusts subplot parameters to fit plots into the figure area\n",
    "plt.show()"
   ]
  },
  {
   "cell_type": "code",
   "execution_count": null,
   "metadata": {
    "id": "7Cib5GY7Y4eD"
   },
   "outputs": [],
   "source": [
    "# Define transformations\n",
    "data_transforms = transforms.Compose([\n",
    "    transforms.Grayscale(num_output_channels=1),# Convert to grayscale\n",
    "    transforms.Resize((224, 224)),  # Resize the image\n",
    "    transforms.ToTensor(),  # Convert image to tensor\n",
    "])"
   ]
  },
  {
   "cell_type": "code",
   "execution_count": null,
   "metadata": {
    "colab": {
     "base_uri": "https://localhost:8080/"
    },
    "id": "udDwUzeJB0qM",
    "outputId": "a51c1db2-a4ce-405f-d9e2-ad82c0911462"
   },
   "outputs": [],
   "source": [
    "root_dir = 'IMAGEFILES'\n",
    "folders = os.listdir(root_dir)\n",
    "folders"
   ]
  },
  {
   "cell_type": "code",
   "execution_count": null,
   "metadata": {
    "id": "g0KeYR__yyLQ"
   },
   "outputs": [],
   "source": [
    "# Load images and assign labels\n",
    "data = []\n",
    "labels = []\n",
    "filenames = []\n",
    "\n",
    "for folder in folders:\n",
    "    folder_path = os.path.join(root_dir, folder)\n",
    "    for filename in os.listdir(folder_path):\n",
    "        img_path = os.path.join(folder_path, filename)\n",
    "        img = Image.open(img_path)\n",
    "        data.append(img)\n",
    "        labels.append(folder)\n",
    "        filenames.append(filename)"
   ]
  },
  {
   "cell_type": "code",
   "execution_count": null,
   "metadata": {
    "id": "ieNbsiv1VSrj"
   },
   "outputs": [],
   "source": [
    "# Renaming Labels with Integers\n",
    "class_indices = {\n",
    "    'Empty Pot' : 0,\n",
    "    'Tobacco Cut': 1,\n",
    "    'Tobacco Dry': 2,\n",
    "    'Tomato Cut': 3,\n",
    "    'Tomato Dry': 4,\n",
    "    'Greenhouse Noises': 5\n",
    "}\n",
    "\n",
    "# Convert label names to class indices\n",
    "labels = [class_indices[label] for label in labels]"
   ]
  },
  {
   "cell_type": "code",
   "execution_count": null,
   "metadata": {
    "colab": {
     "base_uri": "https://localhost:8080/"
    },
    "id": "7OiE-HdPDNjM",
    "outputId": "a5664afc-c340-406e-875e-bc4a546db4c7"
   },
   "outputs": [],
   "source": [
    "# Code to check the duplicate names in different Condition Folders\n",
    "root_dir = 'IMAGEFILES'\n",
    "folders = os.listdir(root_dir)\n",
    "\n",
    "file_dict = defaultdict(list)\n",
    "cnt = 0\n",
    "\n",
    "for folder in folders:\n",
    "    folder_path = os.path.join(root_dir, folder)\n",
    "    for filename in os.listdir(folder_path):\n",
    "        file_dict[filename].append(folder)\n",
    "\n",
    "duplicate_files = {filename: folders for filename, folders in file_dict.items() if len(folders) > 1}\n",
    "\n",
    "if duplicate_files:\n",
    "    print(\"Duplicate files found in the following folders:\")\n",
    "    for filename, folders in duplicate_files.items():\n",
    "        print(f\"Filename: {filename}, Folders: {folders}\")\n",
    "        cnt+=1\n",
    "    print('Total Duplicate Files', cnt)\n",
    "else:\n",
    "    print(\"No duplicate files found.\")"
   ]
  },
  {
   "cell_type": "code",
   "execution_count": null,
   "metadata": {
    "id": "5PuG1ZXcFYgo"
   },
   "outputs": [],
   "source": [
    "# Split data into train and test sets (80% train, 20% test)\n",
    "train_data, test_data, train_labels, test_labels, train_filenames, test_filenames = train_test_split(\n",
    "    data, labels, filenames, test_size=0.2, random_state=42, stratify=labels\n",
    ")"
   ]
  },
  {
   "cell_type": "code",
   "execution_count": null,
   "metadata": {
    "id": "pYflYFPtPwxC"
   },
   "outputs": [],
   "source": [
    "# Create custom datasets\n",
    "class CustomDataset(torch.utils.data.Dataset):\n",
    "    def __init__(self, data, labels, transform=None):\n",
    "        self.data = data\n",
    "        self.labels = labels\n",
    "        self.transform = transform\n",
    "\n",
    "    def __len__(self):\n",
    "        return len(self.data)\n",
    "\n",
    "    def __getitem__(self, index):\n",
    "        img = self.data[index]\n",
    "        label = self.labels[index]\n",
    "        if self.transform:\n",
    "            img = self.transform(img)\n",
    "        return img, label"
   ]
  },
  {
   "cell_type": "code",
   "execution_count": null,
   "metadata": {
    "id": "0aWNZue7QJhD"
   },
   "outputs": [],
   "source": [
    "# Create train and test datasets\n",
    "train_dataset = CustomDataset(train_data, train_labels, transform=data_transforms)\n",
    "test_dataset = CustomDataset(test_data, test_labels, transform=data_transforms)"
   ]
  },
  {
   "cell_type": "code",
   "execution_count": null,
   "metadata": {
    "id": "G3hS0M2gQd8Z"
   },
   "outputs": [],
   "source": [
    "# Define batch size\n",
    "batch_size = 16\n",
    "\n",
    "# Create DataLoader objects\n",
    "train_loader = torch.utils.data.DataLoader(train_dataset, batch_size=batch_size, shuffle=True)\n",
    "test_loader = torch.utils.data.DataLoader(test_dataset, batch_size=batch_size, shuffle=False)"
   ]
  },
  {
   "cell_type": "code",
   "execution_count": null,
   "metadata": {
    "id": "3_RUPYArRN_X"
   },
   "outputs": [],
   "source": [
    "class CustomCNN(nn.Module):\n",
    "    def __init__(self, num_classes=6):\n",
    "        super(CustomCNN, self).__init__()\n",
    "\n",
    "        # Convolutional layers\n",
    "        self.conv1 = nn.Conv2d(in_channels=1, out_channels=32, kernel_size=3, stride=1, padding=1)\n",
    "        self.bn1 = nn.BatchNorm2d(32)\n",
    "        self.relu = nn.ReLU()\n",
    "        self.maxpool1 = nn.MaxPool2d(kernel_size=2, stride=2)\n",
    "        self.dropout1 = nn.Dropout(0.25)\n",
    "\n",
    "        self.conv2 = nn.Conv2d(in_channels=32, out_channels=64, kernel_size=3, stride=1, padding=1)\n",
    "        self.bn2 = nn.BatchNorm2d(64)\n",
    "        self.maxpool2 = nn.MaxPool2d(kernel_size=2, stride=2)\n",
    "        self.dropout2 = nn.Dropout(0.25)\n",
    "\n",
    "        self.conv3 = nn.Conv2d(in_channels=64, out_channels=128, kernel_size=3, stride=1, padding=1)\n",
    "        self.bn3 = nn.BatchNorm2d(128)\n",
    "        self.maxpool3 = nn.MaxPool2d(kernel_size=2, stride=2)\n",
    "        self.dropout3 = nn.Dropout(0.25)\n",
    "\n",
    "        self.conv4 = nn.Conv2d(in_channels=128, out_channels=256, kernel_size=3, stride=1, padding=1)\n",
    "        self.bn4 = nn.BatchNorm2d(256)\n",
    "        self.maxpool4 = nn.MaxPool2d(kernel_size=2, stride=2)\n",
    "        self.dropout4 = nn.Dropout(0.25)\n",
    "\n",
    "        # Fully connected layers\n",
    "        self.fc1 = nn.Linear(256 * 14 * 14, 512)\n",
    "        self.dropout5 = nn.Dropout(0.5)\n",
    "        self.fc2 = nn.Linear(512, num_classes)\n",
    "\n",
    "    def forward(self, x):\n",
    "        # Convolutional layers with batch normalization, dropout, ReLU activation, and MaxPool\n",
    "        x = self.maxpool1(self.dropout1(self.relu(self.bn1(self.conv1(x)))))\n",
    "        x = self.maxpool2(self.dropout2(self.relu(self.bn2(self.conv2(x)))))\n",
    "        x = self.maxpool3(self.dropout3(self.relu(self.bn3(self.conv3(x)))))\n",
    "        x = self.maxpool4(self.dropout4(self.relu(self.bn4(self.conv4(x)))))\n",
    "        #print('Conv Output', x.shape)\n",
    "\n",
    "        # Flatten for fully connected layers\n",
    "        x = x.view(x.size(0), -1)\n",
    "\n",
    "        # Fully connected layers with dropout\n",
    "        x = self.dropout5(self.relu(self.fc1(x)))\n",
    "        x = self.fc2(x)\n",
    "\n",
    "        return x"
   ]
  },
  {
   "cell_type": "code",
   "execution_count": null,
   "metadata": {
    "colab": {
     "base_uri": "https://localhost:8080/"
    },
    "id": "7mwJQxFuR4B6",
    "outputId": "741ae89d-3f7e-4c8f-ecd9-a421251ee9d8"
   },
   "outputs": [],
   "source": [
    "# Checking if GPU is available\n",
    "if torch.cuda.is_available():\n",
    "    device = torch.device(\"cuda\")\n",
    "    print(torch.cuda.get_device_name(0))  # This will print the name of your GPU\n",
    "else:\n",
    "    device = torch.device(\"cpu\")\n",
    "    print(\"No GPU available, using CPU instead.\")"
   ]
  },
  {
   "cell_type": "code",
   "execution_count": null,
   "metadata": {
    "id": "PspZIQBVSOXJ"
   },
   "outputs": [],
   "source": [
    "# Set device to GPU as its available\n",
    "device = torch.device(\"cuda\" if torch.cuda.is_available() else \"cpu\")"
   ]
  },
  {
   "cell_type": "code",
   "execution_count": null,
   "metadata": {
    "id": "fFJpTWH5SlI3"
   },
   "outputs": [],
   "source": [
    "# instantiating the model\n",
    "model = CustomCNN()\n",
    "model = model.to(device)  # Move the model to GPU"
   ]
  },
  {
   "cell_type": "code",
   "execution_count": null,
   "metadata": {
    "colab": {
     "base_uri": "https://localhost:8080/"
    },
    "id": "oh3qYaY_Sumx",
    "outputId": "e0df3fca-431b-486f-a7cc-76f5cdb5f2e4"
   },
   "outputs": [],
   "source": [
    "# printing total number of parameters in the model\n",
    "total_params = sum(p.numel() for p in model.parameters())\n",
    "print(f\"Total number of parameters in the model: {total_params}\")"
   ]
  },
  {
   "cell_type": "code",
   "execution_count": null,
   "metadata": {
    "id": "9NOq8M-6Sx0U"
   },
   "outputs": [],
   "source": [
    "# Define loss function and optimizer\n",
    "criterion = nn.CrossEntropyLoss()\n",
    "optimizer = optim.Adam(model.parameters(), lr=0.001)"
   ]
  },
  {
   "cell_type": "code",
   "execution_count": null,
   "metadata": {
    "colab": {
     "base_uri": "https://localhost:8080/"
    },
    "id": "Muk76v9mTekK",
    "outputId": "16fcc8ee-cb77-40e6-b4e3-b614d25e1b1a"
   },
   "outputs": [],
   "source": [
    "# Training loop\n",
    "epochs = 10  # Number of epochs\n",
    "for epoch in range(epochs):\n",
    "    running_loss = 0.0\n",
    "    for i, (inputs, labels) in enumerate(train_loader, 0):\n",
    "\n",
    "        inputs, labels = inputs.to(device), labels.to(device)   # Move data to GPU\n",
    "\n",
    "        # Zero the parameter gradients\n",
    "        optimizer.zero_grad()\n",
    "\n",
    "        # Forward + backward + optimize\n",
    "        outputs = model(inputs)\n",
    "        loss = criterion(outputs, labels)\n",
    "        loss.backward()\n",
    "        optimizer.step()\n",
    "\n",
    "        # Print statistics\n",
    "        running_loss += loss.item()\n",
    "        if i % 100 == 99:  # Print every 100 mini-batches\n",
    "            print(f\"Epoch [{epoch + 1}/{epochs}], \"\n",
    "                  f\"Batch [{i + 1}/{len(train_loader)}], \"\n",
    "                  f\"Loss: {running_loss / 100:.4f}\")\n",
    "            running_loss = 0.0\n",
    "\n",
    "print('Finished Training')"
   ]
  },
  {
   "cell_type": "code",
   "execution_count": null,
   "metadata": {
    "colab": {
     "base_uri": "https://localhost:8080/"
    },
    "id": "LOBx0vRwW0mt",
    "outputId": "0a43df26-0771-49bf-f1d6-6ba9f63dd042"
   },
   "outputs": [],
   "source": [
    "correct = 0\n",
    "total = 0\n",
    "model.eval()  # Set the model to evaluation mode\n",
    "\n",
    "with torch.no_grad():  # Disable gradient computation\n",
    "    for inputs, labels in test_loader:  # Iterate over the test data\n",
    "        inputs, labels = inputs.to(device), labels.to(device)  # Move data to GPU\n",
    "\n",
    "        outputs = model(inputs)  # Forward pass\n",
    "        _, predicted = torch.max(outputs.data, 1)  # Get the predicted class\n",
    "\n",
    "        total += labels.size(0)  # Total number of labels\n",
    "        correct += (predicted == labels).sum().item()  # Number of correct predictions\n",
    "\n",
    "accuracy = 100 * correct / total\n",
    "print(f'Accuracy on the test set: {accuracy:.2f}%')"
   ]
  },
  {
   "cell_type": "code",
   "execution_count": null,
   "metadata": {
    "id": "GOfTLzxg9i-m"
   },
   "outputs": [],
   "source": []
  }
 ],
 "metadata": {
  "accelerator": "GPU",
  "colab": {
   "gpuType": "V100",
   "machine_shape": "hm",
   "provenance": []
  },
  "kernelspec": {
   "display_name": "Python 3",
   "language": "python",
   "name": "python3"
  },
  "language_info": {
   "codemirror_mode": {
    "name": "ipython",
    "version": 3
   },
   "file_extension": ".py",
   "mimetype": "text/x-python",
   "name": "python",
   "nbconvert_exporter": "python",
   "pygments_lexer": "ipython3",
   "version": "3.8.8"
  }
 },
 "nbformat": 4,
 "nbformat_minor": 1
}
